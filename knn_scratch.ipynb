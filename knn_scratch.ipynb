{
  "nbformat": 4,
  "nbformat_minor": 0,
  "metadata": {
    "colab": {
      "provenance": [],
      "authorship_tag": "ABX9TyMrQWimTMX/AqY608prHDu8",
      "include_colab_link": true
    },
    "kernelspec": {
      "name": "python3",
      "display_name": "Python 3"
    },
    "language_info": {
      "name": "python"
    }
  },
  "cells": [
    {
      "cell_type": "markdown",
      "metadata": {
        "id": "view-in-github",
        "colab_type": "text"
      },
      "source": [
        "<a href=\"https://colab.research.google.com/github/HRKhan-DS/Machine_learning_scratch/blob/main/knn_scratch.ipynb\" target=\"_parent\"><img src=\"https://colab.research.google.com/assets/colab-badge.svg\" alt=\"Open In Colab\"/></a>"
      ]
    },
    {
      "cell_type": "code",
      "execution_count": 4,
      "metadata": {
        "colab": {
          "base_uri": "https://localhost:8080/"
        },
        "id": "lxI23u0cU8O1",
        "outputId": "4a17385c-a662-4127-f4dc-0435822ccd4a"
      },
      "outputs": [
        {
          "output_type": "stream",
          "name": "stdout",
          "text": [
            "Train Accuracy: 0.94\n",
            "Test Accuracy: 1.00\n",
            "\n",
            "Confusion Matrix (Test Data):\n",
            "[[10  0  0]\n",
            " [ 0  9  0]\n",
            " [ 0  0 11]]\n"
          ]
        }
      ],
      "source": [
        "import numpy as np\n",
        "from collections import Counter\n",
        "from sklearn.model_selection import train_test_split\n",
        "from sklearn.preprocessing import StandardScaler\n",
        "from sklearn.metrics import confusion_matrix, accuracy_score\n",
        "from sklearn import datasets\n",
        "\n",
        "iris = datasets.load_iris()\n",
        "\n",
        "X = iris.data\n",
        "y = iris.target\n",
        "\n",
        "X_train, X_test, y_train, y_test = train_test_split(X, y, test_size=0.2, random_state=42)\n",
        "\n",
        "scaler = StandardScaler()\n",
        "X_train = scaler.fit_transform(X_train)\n",
        "X_test = scaler.transform(X_test)\n",
        "\n",
        "class KnnClassifier:\n",
        "    def __init__(self, k=3):\n",
        "        self.k = k\n",
        "\n",
        "    def fit(self, X_train, y_train):\n",
        "      self.X_train = X_train\n",
        "      self.y_train = y_train\n",
        "\n",
        "    def _euclidean_distance(self, x1, x2):\n",
        "        return np.sqrt(np.sum((x1 - x2)**2))\n",
        "\n",
        "    def _get_neighbors(self, X_test):\n",
        "        distances = [self._euclidean_distance(x, X_test) for x in self.X_train]\n",
        "        neighbors_indices = np.argsort(distances)[:self.k]\n",
        "        return neighbors_indices\n",
        "\n",
        "    def _vote(self, neighbors):\n",
        "        neighbor_labels = [self.y_train[i] for i in neighbors]\n",
        "        most_common = Counter(neighbor_labels).most_common(1)[0][0]\n",
        "        return most_common\n",
        "\n",
        "    def predict(self, X_test):\n",
        "        predictions = [self._vote(self._get_neighbors(x)) for x in X_test]\n",
        "        return np.array(predictions)\n",
        "# Create an instance of the KNN classifier with k=3\n",
        "knn = KnnClassifier(k=3)\n",
        "\n",
        "# Fit the model on the training data\n",
        "knn.fit(X_train, y_train)\n",
        "\n",
        "# Predict labels for both training and test data\n",
        "y_train_pred = knn.predict(X_train)\n",
        "y_test_pred = knn.predict(X_test)\n",
        "\n",
        "# Calculate train and test accuracy\n",
        "train_accuracy = accuracy_score(y_train, y_train_pred)\n",
        "test_accuracy = accuracy_score(y_test, y_test_pred)\n",
        "\n",
        "# Display the results\n",
        "print(f\"Train Accuracy: {train_accuracy:.2f}\")\n",
        "print(f\"Test Accuracy: {test_accuracy:.2f}\")\n",
        "\n",
        "# Generate confusion matrix for test data\n",
        "conf_matrix = confusion_matrix(y_test, y_test_pred)\n",
        "print(\"\\nConfusion Matrix (Test Data):\")\n",
        "print(conf_matrix)\n"
      ]
    }
  ]
}